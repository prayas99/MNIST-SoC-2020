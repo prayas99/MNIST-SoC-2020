{
  "nbformat": 4,
  "nbformat_minor": 0,
  "metadata": {
    "colab": {
      "name": "SoCTask1(a)-3.ipynb",
      "provenance": [],
      "collapsed_sections": [],
      "mount_file_id": "17yozUGMcy33jadErcWxDYDgnejr5MUqG",
      "authorship_tag": "ABX9TyOg3J09i7BN9Pt5NxLymwCk"
    },
    "kernelspec": {
      "name": "python3",
      "display_name": "Python 3"
    }
  },
  "cells": [
    {
      "cell_type": "markdown",
      "metadata": {
        "id": "9hdZbjSZ7s-u",
        "colab_type": "text"
      },
      "source": [
        "# Importing libraries"
      ]
    },
    {
      "cell_type": "code",
      "metadata": {
        "id": "5XEhFtJf3wtg",
        "colab_type": "code",
        "colab": {}
      },
      "source": [
        "import torch\n",
        "from torchvision import datasets, transforms\n",
        "import numpy as np\n",
        "import matplotlib.pyplot as plt\n",
        "from torch import nn, optim\n",
        "import torch.nn.functional as F\n",
        "import os.path\n",
        "\n",
        "resume_weights = \"/content/drive/My Drive/22-2/checkpoint4.pth.tar\"\n",
        "cuda = torch.cuda.is_available()"
      ],
      "execution_count": 0,
      "outputs": []
    },
    {
      "cell_type": "code",
      "metadata": {
        "id": "oVR-h19U5qPr",
        "colab_type": "code",
        "colab": {}
      },
      "source": [
        "transform = transforms.Compose([transforms.ToTensor(), \n",
        "                                  transforms.Normalize((0.5,), (0.5,)) ])"
      ],
      "execution_count": 0,
      "outputs": []
    },
    {
      "cell_type": "code",
      "metadata": {
        "id": "4DeHpF58xlRl",
        "colab_type": "code",
        "colab": {}
      },
      "source": [
        ""
      ],
      "execution_count": 0,
      "outputs": []
    },
    {
      "cell_type": "markdown",
      "metadata": {
        "id": "aONgPJ5D7z8T",
        "colab_type": "text"
      },
      "source": [
        "# Preparing data"
      ]
    },
    {
      "cell_type": "code",
      "metadata": {
        "id": "Daoyp308uWYZ",
        "colab_type": "code",
        "colab": {}
      },
      "source": [
        "torch.backends.cudnn.deterministic = True\n",
        "torch.manual_seed(1)\n",
        "torch.cuda.manual_seed(1)\n",
        "np.random.seed(1)"
      ],
      "execution_count": 0,
      "outputs": []
    },
    {
      "cell_type": "code",
      "metadata": {
        "id": "6SnntGxv6MIl",
        "colab_type": "code",
        "colab": {}
      },
      "source": [
        "trainset = datasets.MNIST('/data', download=True, train=True, transform=transform)\n",
        "testset = datasets.MNIST('/data', download=True, train=False, transform=transform)\n",
        "\n",
        "trainloader = torch.utils.data.DataLoader(trainset, batch_size=64, shuffle=True)\n",
        "testloader = torch.utils.data.DataLoader(testset, batch_size=64, shuffle=True)"
      ],
      "execution_count": 0,
      "outputs": []
    },
    {
      "cell_type": "code",
      "metadata": {
        "id": "VP6u1E6I7FH3",
        "colab_type": "code",
        "outputId": "b5840773-0962-43e0-f904-dea409c551c5",
        "colab": {
          "base_uri": "https://localhost:8080/",
          "height": 101
        }
      },
      "source": [
        "dataiter = iter(trainloader)\n",
        "images, labels = dataiter.next()\n",
        "\n",
        "print(images.shape)\n",
        "print(labels.shape)\n",
        "print(labels)"
      ],
      "execution_count": 21,
      "outputs": [
        {
          "output_type": "stream",
          "text": [
            "torch.Size([64, 1, 28, 28])\n",
            "torch.Size([64])\n",
            "tensor([9, 3, 0, 1, 2, 4, 6, 8, 1, 1, 2, 3, 0, 7, 0, 0, 1, 3, 9, 4, 1, 1, 2, 9,\n",
            "        0, 0, 1, 4, 6, 2, 1, 3, 0, 8, 8, 1, 9, 5, 9, 0, 2, 8, 7, 2, 9, 5, 7, 1,\n",
            "        4, 1, 8, 6, 1, 8, 7, 0, 1, 3, 4, 3, 2, 7, 7, 7])\n"
          ],
          "name": "stdout"
        }
      ]
    },
    {
      "cell_type": "code",
      "metadata": {
        "id": "WUtNQNimxHFY",
        "colab_type": "code",
        "outputId": "4b20051e-f23b-49fd-9f84-6817740205e8",
        "colab": {
          "base_uri": "https://localhost:8080/",
          "height": 34
        }
      },
      "source": [
        "print(images[0].shape)"
      ],
      "execution_count": 22,
      "outputs": [
        {
          "output_type": "stream",
          "text": [
            "torch.Size([1, 28, 28])\n"
          ],
          "name": "stdout"
        }
      ]
    },
    {
      "cell_type": "code",
      "metadata": {
        "id": "WawJ0XyP7mnC",
        "colab_type": "code",
        "outputId": "3f04763a-6bee-47bd-e0f9-ec439c602c5e",
        "colab": {
          "base_uri": "https://localhost:8080/",
          "height": 282
        }
      },
      "source": [
        "plt.imshow(images[0].numpy().squeeze(), cmap='gray_r')"
      ],
      "execution_count": 23,
      "outputs": [
        {
          "output_type": "execute_result",
          "data": {
            "text/plain": [
              "<matplotlib.image.AxesImage at 0x7f4fb4a853c8>"
            ]
          },
          "metadata": {
            "tags": []
          },
          "execution_count": 23
        },
        {
          "output_type": "display_data",
          "data": {
            "image/png": "[encoded data removed]",
            "text/plain": [
              "<Figure size 432x288 with 1 Axes>"
            ]
          },
          "metadata": {
            "tags": [],
            "needs_background": "light"
          }
        }
      ]
    },
    {
      "cell_type": "code",
      "metadata": {
        "id": "kmDYg-CBctR_",
        "colab_type": "code",
        "colab": {}
      },
      "source": [
        "best_accuracy = torch.FloatTensor([0])\n",
        "start_epoch = 0"
      ],
      "execution_count": 0,
      "outputs": []
    },
    {
      "cell_type": "code",
      "metadata": {
        "id": "TjDZDxxB8llF",
        "colab_type": "code",
        "outputId": "a401d82a-af57-4335-e93f-bac9441f58bf",
        "colab": {
          "base_uri": "https://localhost:8080/",
          "height": 246
        }
      },
      "source": [
        "num_of_images = 60\n",
        "for index in range(1, num_of_images+1):\n",
        "  plt.subplot(6, 10, index)\n",
        "  plt.axis('off')\n",
        "  plt.imshow(images[index].numpy().squeeze(), cmap='gray_r')"
      ],
      "execution_count": 25,
      "outputs": [
        {
          "output_type": "display_data",
          "data": {
            "image/png": "[encoded data removed]",
            "text/plain": [
              "<Figure size 432x288 with 60 Axes>"
            ]
          },
          "metadata": {
            "tags": [],
            "needs_background": "light"
          }
        }
      ]
    },
    {
      "cell_type": "markdown",
      "metadata": {
        "id": "1C4XiYJnv_-k",
        "colab_type": "text"
      },
      "source": [
        "# Defining the Network"
      ]
    },
    {
      "cell_type": "code",
      "metadata": {
        "id": "HHfeFq2Fv8nE",
        "colab_type": "code",
        "colab": {}
      },
      "source": [
        "class Net(nn.Module):\n",
        "  def __init__(self):\n",
        "    super(Net, self).__init__()\n",
        "    self.conv1 = nn.Conv2d(1,30,5)\n",
        "    self.conv2 = nn.Conv2d(30,15,3)\n",
        "    self.pool = nn.MaxPool2d(2,2)\n",
        "    self.drop = nn.Dropout(0.2)\n",
        "    self.fc1 = nn.Linear(5*5*15,128)\n",
        "    self.fc2 = nn.Linear(128,50)\n",
        "    self.fc3 = nn.Linear(50,10)\n",
        "  \n",
        "  def forward(self,x):\n",
        "    x = self.pool(F.relu(self.conv1(x)))\n",
        "    x = self.pool(F.relu(self.conv2(x)))\n",
        "    x = self.drop(x)\n",
        "    x = x.view(-1,5*5*15)\n",
        "    x = F.relu(self.fc1(x))\n",
        "    x = F.relu(self.fc2(x))\n",
        "    x = self.fc3(x)\n",
        "    x = F.log_softmax(x,dim=1)\n",
        "    return x\n",
        "\n",
        "net = Net()"
      ],
      "execution_count": 0,
      "outputs": []
    },
    {
      "cell_type": "code",
      "metadata": {
        "id": "HrsdZK1tyqu7",
        "colab_type": "code",
        "colab": {}
      },
      "source": [
        "criterion = nn.CrossEntropyLoss()\n",
        "#criterion = nn.NLLLoss()\n",
        "optimizer = optim.Adam(net.parameters())"
      ],
      "execution_count": 0,
      "outputs": []
    },
    {
      "cell_type": "markdown",
      "metadata": {
        "id": "ezRdLAKaeO78",
        "colab_type": "text"
      },
      "source": [
        "# Saving model"
      ]
    },
    {
      "cell_type": "code",
      "metadata": {
        "id": "oOt6ELMzdUD6",
        "colab_type": "code",
        "colab": {}
      },
      "source": [
        "def save_checkpoint(state, is_best, filename = \"/content/drive/My Drive/22-2/checkpoint4.pth.tar\"):\n",
        "    if is_best:\n",
        "        print (\"=> Saving a new best\")\n",
        "        torch.save(state, filename)  # save checkpoint\n",
        "    else:\n",
        "        print (\"=> Validation Accuracy did not improve\")"
      ],
      "execution_count": 0,
      "outputs": []
    },
    {
      "cell_type": "code",
      "metadata": {
        "id": "ZNuaBIeIn8qZ",
        "colab_type": "code",
        "outputId": "ea31d1df-0b5c-4cde-f4e0-63928ee87bd7",
        "colab": {
          "base_uri": "https://localhost:8080/",
          "height": 34
        }
      },
      "source": [
        "if os.path.isfile(resume_weights):\n",
        "    print(\"=> loading checkpoint '{}' ...\".format(resume_weights))\n",
        "    #if cuda:\n",
        "    checkpoint = torch.load(resume_weights)\n",
        "    #else:\n",
        "     #   checkpoint = torch.load(resume_weights,\n",
        "      #                          map_location=lambda storage,\n",
        "       #                         loc: storage)\n",
        "    start_epoch = checkpoint['epoch']\n",
        "    best_accuracy = checkpoint['best_accuracy']\n",
        "    print('=> loaded checkpoint {} (trained for {} epochs) with {:.4}% test accuracy'.format(resume_weights,\n",
        "        checkpoint['epoch'],100 * best_accuracy.numpy()[0]))\n",
        "    net.load_state_dict(checkpoint['state_dict'])\n",
        "else:print(\"no\") "
      ],
      "execution_count": 29,
      "outputs": [
        {
          "output_type": "stream",
          "text": [
            "no\n"
          ],
          "name": "stdout"
        }
      ]
    },
    {
      "cell_type": "markdown",
      "metadata": {
        "id": "C5tdsO1NZbhS",
        "colab_type": "text"
      },
      "source": [
        "# Forward loop"
      ]
    },
    {
      "cell_type": "code",
      "metadata": {
        "id": "uuEE4-Ce87QN",
        "colab_type": "code",
        "colab": {}
      },
      "source": [
        "def eval():\n",
        "  net.eval()\n",
        "  correct = 0\n",
        "  total = 0\n",
        "  with torch.no_grad():\n",
        "   for data in testloader:\n",
        "     images, labels = data\n",
        "     outputs = net(images)\n",
        "     _, predicted = torch.max(outputs,1)\n",
        "     total += labels.size(0)\n",
        "     correct  += (predicted == labels).sum().item()\n",
        "\n",
        "  acc = correct/total\n",
        "#print('Accuracy of the network over 10000 test images: %d %%' %(100  * correct/total))\n",
        "  return acc"
      ],
      "execution_count": 0,
      "outputs": []
    },
    {
      "cell_type": "code",
      "metadata": {
        "id": "gyRdvcuQZGq1",
        "colab_type": "code",
        "outputId": "7849a090-3077-4db9-b3ce-3d6b11e79b9e",
        "colab": {
          "base_uri": "https://localhost:8080/",
          "height": 403
        }
      },
      "source": [
        "for epochs in range(1,3):\n",
        "\n",
        "  running_loss = 0.0\n",
        "  correct= 0\n",
        "  total = 0\n",
        "\n",
        "  for i, data in enumerate(trainloader,0):\n",
        "      inputs, labels = data\n",
        "      \n",
        "      optimizer.zero_grad()\n",
        "      outputs = net(inputs)\n",
        "      loss = criterion(outputs,labels)\n",
        "      loss.backward()\n",
        "      optimizer.step()\n",
        "\n",
        "      _, predicted = torch.max(outputs.data,1)\n",
        "      total += labels.size(0)\n",
        "      correct += (predicted == labels).sum().item()\n",
        "\n",
        "      \n",
        "\n",
        "      running_loss += loss.item()\n",
        "      if i % 100 == 99:\n",
        "            print('[%d, %5d] loss : %.3f acc: %.3f %%' % (epochs, i+1, running_loss/100, correct/total *100))\n",
        "            running_loss = 0.0\n",
        "            correct = 0\n",
        "            total = 0\n",
        "  acc1 = eval()\n",
        "  print ('epoch: %d acc_test: %.3f %%' % (epochs, acc1*100))\n",
        "  acc1 = torch.FloatTensor([acc1])\n",
        "  is_best = bool(acc1.numpy() > best_accuracy.numpy())\n",
        "  best_accuracy = torch.FloatTensor(max(acc1.numpy(), best_accuracy.numpy()))\n",
        "  save_checkpoint({\n",
        "      'epoch' : start_epoch + epochs,\n",
        "      'state_dict' : net.state_dict(),\n",
        "      'best_accuracy' : best_accuracy\n",
        "      }, is_best)\n",
        "  \n",
        "print('Finished training')"
      ],
      "execution_count": 31,
      "outputs": [
        {
          "output_type": "stream",
          "text": [
            "[1,   100] loss : 0.961 acc: 71.297 %\n",
            "[1,   200] loss : 0.273 acc: 92.141 %\n",
            "[1,   300] loss : 0.184 acc: 94.422 %\n",
            "[1,   400] loss : 0.151 acc: 95.234 %\n",
            "[1,   500] loss : 0.140 acc: 95.812 %\n",
            "[1,   600] loss : 0.125 acc: 96.047 %\n",
            "[1,   700] loss : 0.104 acc: 96.656 %\n",
            "[1,   800] loss : 0.105 acc: 96.750 %\n",
            "[1,   900] loss : 0.105 acc: 96.750 %\n",
            "epoch: 1 acc_test: 97.650 %\n",
            "=> Saving a new best\n",
            "[2,   100] loss : 0.076 acc: 97.719 %\n",
            "[2,   200] loss : 0.063 acc: 98.125 %\n",
            "[2,   300] loss : 0.058 acc: 98.219 %\n",
            "[2,   400] loss : 0.057 acc: 98.094 %\n",
            "[2,   500] loss : 0.057 acc: 98.047 %\n",
            "[2,   600] loss : 0.053 acc: 98.391 %\n",
            "[2,   700] loss : 0.048 acc: 98.594 %\n",
            "[2,   800] loss : 0.058 acc: 98.203 %\n",
            "[2,   900] loss : 0.045 acc: 98.719 %\n",
            "epoch: 2 acc_test: 98.460 %\n",
            "=> Saving a new best\n",
            "Finished training\n"
          ],
          "name": "stdout"
        }
      ]
    },
    {
      "cell_type": "code",
      "metadata": {
        "id": "nA6ZuCgffuLB",
        "colab_type": "code",
        "colab": {}
      },
      "source": [
        ""
      ],
      "execution_count": 0,
      "outputs": []
    },
    {
      "cell_type": "code",
      "metadata": {
        "id": "DWoL_j62_EoZ",
        "colab_type": "code",
        "colab": {}
      },
      "source": [
        ""
      ],
      "execution_count": 0,
      "outputs": []
    }
  ]
}
